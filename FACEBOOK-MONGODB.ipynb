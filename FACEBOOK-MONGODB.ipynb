{
 "cells": [
  {
   "cell_type": "code",
   "execution_count": 1,
   "id": "5c7cc786",
   "metadata": {},
   "outputs": [],
   "source": [
    "from facebook_scraper import get_posts\n",
    "import couchdb\n",
    "import json\n",
    "import time\n",
    "from pymongo import MongoClient"
   ]
  },
  {
   "cell_type": "code",
   "execution_count": 2,
   "id": "7b5fff79",
   "metadata": {},
   "outputs": [
    {
     "name": "stdout",
     "output_type": "stream",
     "text": [
      "MongoDB connection: Success\n"
     ]
    }
   ],
   "source": [
    "CLIENT = MongoClient('mongodb://localhost:27017')\n",
    "\n",
    "CLIENT.admin.command('ismaster')\n",
    "db=CLIENT['facebooktest']\n",
    "colect=db['facebook']\n",
    "\n",
    "try:\n",
    "    CLIENT.admin.command('ismaster')\n",
    "    print('MongoDB connection: Success')\n",
    "except ConnectionFailure as cf:\n",
    "    print('MongoDB connection: failed', cf)\n",
    "\n"
   ]
  },
  {
   "cell_type": "code",
   "execution_count": 3,
   "id": "2c855fff",
   "metadata": {},
   "outputs": [
    {
     "name": "stdout",
     "output_type": "stream",
     "text": [
      "Ingrese cuantos datos quiere buscar\n",
      "5\n",
      "1\n",
      "guardado exitosamente\n",
      "2\n",
      "guardado exitosamente\n",
      "3\n",
      "guardado exitosamente\n",
      "4\n",
      "guardado exitosamente\n",
      "5\n",
      "guardado exitosamente\n"
     ]
    },
    {
     "name": "stderr",
     "output_type": "stream",
     "text": [
      "C:\\Users\\Alexander\\AppData\\Roaming\\Python\\Python310\\site-packages\\dateparser\\date_parser.py:35: PytzUsageWarning: The localize method is no longer necessary, as this time zone supports the fold attribute (PEP 495). For more details on migrating to a PEP 495-compliant implementation, see https://pytz-deprecation-shim.readthedocs.io/en/latest/migration.html\n",
      "  date_obj = stz.localize(date_obj)\n"
     ]
    },
    {
     "name": "stdout",
     "output_type": "stream",
     "text": [
      "Se termino el scraping\n"
     ]
    }
   ],
   "source": [
    "print(\"Ingrese cuantos datos quiere buscar\")\n",
    "n=int(input())\n",
    "i=1\n",
    "for post in get_posts('nintendo', pages=10, extra_info=True):\n",
    "    while i<=n:\n",
    "        print(i)\n",
    "        i=i+1\n",
    "        time.sleep(5)\n",
    "\n",
    "        id=post['post_id']\n",
    "        mydate=post['time']\n",
    "        try:\n",
    "            datos={\n",
    "                'id':id,\n",
    "                'Date':mydate.timestamp(),\n",
    "                'likes':post['likes'],\n",
    "                'Comentarios':post['comments'],\n",
    "                'Shares':post['shares'],\n",
    "                'reactions':post['reactions'],\n",
    "                'post_url':post['post_url']\n",
    "            }\n",
    "            colect.insert_one(datos)\n",
    "            print(\"guardado exitosamente\")\n",
    "        except Exception as e:    \n",
    "            print(\"no se pudo grabar:\" + str(e))\n",
    "            \n",
    "print('Se termino el scraping')"
   ]
  },
  {
   "cell_type": "code",
   "execution_count": null,
   "id": "75bdc221",
   "metadata": {},
   "outputs": [],
   "source": []
  },
  {
   "cell_type": "code",
   "execution_count": null,
   "id": "8dd18d81",
   "metadata": {},
   "outputs": [],
   "source": []
  }
 ],
 "metadata": {
  "kernelspec": {
   "display_name": "Python 3 (ipykernel)",
   "language": "python",
   "name": "python3"
  },
  "language_info": {
   "codemirror_mode": {
    "name": "ipython",
    "version": 3
   },
   "file_extension": ".py",
   "mimetype": "text/x-python",
   "name": "python",
   "nbconvert_exporter": "python",
   "pygments_lexer": "ipython3",
   "version": "3.10.0"
  }
 },
 "nbformat": 4,
 "nbformat_minor": 5
}
